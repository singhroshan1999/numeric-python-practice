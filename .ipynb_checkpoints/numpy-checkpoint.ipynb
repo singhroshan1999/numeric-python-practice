{
 "cells": [
  {
   "cell_type": "code",
   "execution_count": 3,
   "metadata": {},
   "outputs": [
    {
     "name": "stdout",
     "output_type": "stream",
     "text": [
      "[12, 23, 34, 45, 56, 67, 78, 89, 90]\n",
      "[12 23 34 45 56 67 78 89 90]\n",
      "[ 144  529 1156 2025 3136 4489 6084 7921 8100]\n",
      "<class 'numpy.ndarray'>\n"
     ]
    }
   ],
   "source": [
    "import numpy as np\n",
    "arr = [12,23,34,45,56,67,78,89,90]  # python list\n",
    "C = np.array(arr)  # creating ndarray out of python list\n",
    "print(arr)\n",
    "print(C)\n",
    "print(C**2)  # performing simple scalar multiplication\n",
    "print(type(C))"
   ]
  },
  {
   "cell_type": "code",
   "execution_count": 5,
   "metadata": {},
   "outputs": [
    {
     "data": {
      "image/png": "[encoded data removed]",
      "text/plain": [
       "<Figure size 432x288 with 1 Axes>"
      ]
     },
     "metadata": {
      "needs_background": "light"
     },
     "output_type": "display_data"
    }
   ],
   "source": [
    "%matplotlib inline\n",
    "import matplotlib.pyplot as plt\n",
    "plt.plot(C)  # simple graph plotting\n",
    "plt.show()"
   ]
  },
  {
   "cell_type": "markdown",
   "metadata": {},
   "source": [
    "## Creatig numpy array"
   ]
  },
  {
   "cell_type": "code",
   "execution_count": 10,
   "metadata": {},
   "outputs": [
    {
     "name": "stdout",
     "output_type": "stream",
     "text": [
      "[0 1 2 3 4 5 6 7 8 9] <class 'numpy.ndarray'>\n",
      "[10 11 12 13 14 15 16 17 18 19 20 21 22 23 24 25 26 27 28 29 30 31 32 33\n",
      " 34 35 36 37 38 39 40 41 42 43 44 45 46 47 48 49]\n",
      "[0.  0.7 1.4 2.1 2.8 3.5 4.2 4.9 5.6 6.3 7.  7.7 8.4 9.1 9.8]\n",
      "[0. 1. 2. 3. 4. 5. 6. 7. 8. 9.]\n"
     ]
    }
   ],
   "source": [
    "# np.arange([start,][stop,][step,][dtype=type])  --> ndarray\n",
    "a1 = np.arange(10)\n",
    "print(a1,type(a1))\n",
    "\n",
    "a2 = np.arange(10,50)\n",
    "print(a2)\n",
    "\n",
    "a3 = np.arange(0,10.4,0.7)\n",
    "print(a3)\n",
    "\n",
    "a4 = np.arange(10,dtype = float)\n",
    "print(a4)"
   ]
  },
  {
   "cell_type": "code",
   "execution_count": 23,
   "metadata": {},
   "outputs": [
    {
     "name": "stdout",
     "output_type": "stream",
     "text": [
      "[ 0.          0.20408163  0.40816327  0.6122449   0.81632653  1.02040816\n",
      "  1.2244898   1.42857143  1.63265306  1.83673469  2.04081633  2.24489796\n",
      "  2.44897959  2.65306122  2.85714286  3.06122449  3.26530612  3.46938776\n",
      "  3.67346939  3.87755102  4.08163265  4.28571429  4.48979592  4.69387755\n",
      "  4.89795918  5.10204082  5.30612245  5.51020408  5.71428571  5.91836735\n",
      "  6.12244898  6.32653061  6.53061224  6.73469388  6.93877551  7.14285714\n",
      "  7.34693878  7.55102041  7.75510204  7.95918367  8.16326531  8.36734694\n",
      "  8.57142857  8.7755102   8.97959184  9.18367347  9.3877551   9.59183673\n",
      "  9.79591837 10.        ]\n",
      "[ 5.   7.5 10.  12.5 15. ]\n",
      "[3.  4.5 6.  7.5 9. ]\n",
      "[3.  4.2 5.4 6.6 7.8]\n",
      "(array([100., 101., 102., 103., 104., 105., 106., 107., 108.]), 1.0)\n",
      "[100. 101. 102. 103. 104. 105. 106. 107. 108.] 1.0\n"
     ]
    }
   ],
   "source": [
    "# np.linspace(start, stop, num=50, endpoint=True, retstep=False)\n",
    "# if endpoint == True spacing = (stop-start)/49 else (stop-start)/50\n",
    "\n",
    "print(np.linspace(0,10))\n",
    "print(np.linspace(5,15,num = 5))\n",
    "print(np.linspace(3,9,5,endpoint = True))\n",
    "print(np.linspace(3,9,5,endpoint = False))\n",
    "print(np.linspace(100,108,9,True,retstep = True))\n",
    "arr,step = np.linspace(100,108,9,True,retstep = True)\n",
    "print(arr,step)"
   ]
  },
  {
   "cell_type": "code",
   "execution_count": 57,
   "metadata": {},
   "outputs": [
    {
     "name": "stdout",
     "output_type": "stream",
     "text": [
      "[[0. 0. 0.]\n",
      " [0. 0. 0.]]\n",
      "[[1 1 1]\n",
      " [1 1 1]]\n",
      "[[0. 0. 0.]\n",
      " [0. 0. 0.]]\n",
      "[[ 0  1  2  3  4  5  6  7  8  9]\n",
      " [10 11 12 13 14 15 16 17 18 19]\n",
      " [20 21 22 23 24 25 26 27 28 29]\n",
      " [30 31 32 33 34 35 36 37 38 39]\n",
      " [40 41 42 43 44 45 46 47 48 49]]\n",
      "[[1 1 1 1 1 1 1 1 1 1]\n",
      " [1 1 1 1 1 1 1 1 1 1]\n",
      " [1 1 1 1 1 1 1 1 1 1]\n",
      " [1 1 1 1 1 1 1 1 1 1]\n",
      " [1 1 1 1 1 1 1 1 1 1]]\n",
      "[[0 0 0 0 0 0 0 0 0 0]\n",
      " [0 0 0 0 0 0 0 0 0 0]\n",
      " [0 0 0 0 0 0 0 0 0 0]\n",
      " [0 0 0 0 0 0 0 0 0 0]\n",
      " [0 0 0 0 0 0 0 0 0 0]]\n"
     ]
    }
   ],
   "source": [
    "# creating array of zeros, ones, empty\n",
    "\n",
    "#  np.[zeros,ones,empty](dim_tuple,dtype)\n",
    "\n",
    "x = np.zeros((2,3))\n",
    "print(x)\n",
    "y = np.ones((2,3),dtype = int)\n",
    "print(y)\n",
    "z = np.empty((2,3))\n",
    "print(z)\n",
    "\n",
    "# creating zeros, ones using existing shape\n",
    "\n",
    "A = np.arange(50).reshape(5,10)\n",
    "print(A)\n",
    "\n",
    "a = np.ones_like(A)\n",
    "b = np.zeros_like(A)\n",
    "print(a)\n",
    "print(b)\n"
   ]
  },
  {
   "cell_type": "code",
   "execution_count": 59,
   "metadata": {},
   "outputs": [
    {
     "name": "stdout",
     "output_type": "stream",
     "text": [
      "[[1 0 0 0 0]\n",
      " [0 1 0 0 0]\n",
      " [0 0 1 0 0]\n",
      " [0 0 0 1 0]\n",
      " [0 0 0 0 1]]\n",
      "[[0 0 0 0 0]\n",
      " [1 0 0 0 0]\n",
      " [0 1 0 0 0]\n",
      " [0 0 1 0 0]] \n",
      " [[1 0 0 0 0]\n",
      " [0 1 0 0 0]\n",
      " [0 0 1 0 0]\n",
      " [0 0 0 1 0]]\n"
     ]
    }
   ],
   "source": [
    "# creating identity array\n",
    "\n",
    "# using np.identity(n,dtype)\n",
    "\n",
    "i1 = np.identity(5,dtype = int)\n",
    "print(i1)\n",
    "\n",
    "# using np.eye(N,M=none,k=0,dtype)\n",
    "\n",
    "i2 = np.eye(4,5,k=-1,dtype = int)\n",
    "i3 = np.eye(4,5,k=0,dtype = int)\n",
    "print(i2,\"\\n\",i3)"
   ]
  },
  {
   "cell_type": "markdown",
   "metadata": {},
   "source": [
    "## method and function of ndarray"
   ]
  },
  {
   "cell_type": "code",
   "execution_count": 25,
   "metadata": {},
   "outputs": [
    {
     "name": "stdout",
     "output_type": "stream",
     "text": [
      "0 1 2\n"
     ]
    }
   ],
   "source": [
    "# dimension of array np.ndim(array) --> dimenstion\n",
    "\n",
    "a0 = np.array(42)\n",
    "a1 = np.array([1,2,3,4,5])\n",
    "a2 = np.array([[1,2,3],[4,5,6],[7,8,9]])\n",
    "print(np.ndim(a0),np.ndim(a1),np.ndim(a2))"
   ]
  },
  {
   "cell_type": "code",
   "execution_count": 27,
   "metadata": {},
   "outputs": [
    {
     "name": "stdout",
     "output_type": "stream",
     "text": [
      "int32 float64 <U6\n"
     ]
    }
   ],
   "source": [
    "# getting type of array arr.dtype\n",
    "\n",
    "ai = np.array([1,2,3,4])\n",
    "af = np.array([1.5,2,3])\n",
    "ac = np.array([\"roshan\",\"singh\",\"eqwe\"])\n",
    "print(ai.dtype,af.dtype,ac.dtype)"
   ]
  },
  {
   "cell_type": "code",
   "execution_count": 30,
   "metadata": {},
   "outputs": [
    {
     "name": "stdout",
     "output_type": "stream",
     "text": [
      "[[ 3.4  8.7  9.9]\n",
      " [ 1.1 -7.8 -0.7]\n",
      " [ 4.1 12.3  4.8]]\n",
      "2\n",
      "[[[111 112]\n",
      "  [121 122]]\n",
      "\n",
      " [[211 212]\n",
      "  [221 222]]\n",
      "\n",
      " [[311 312]\n",
      "  [321 322]]]\n",
      "3\n",
      "[[[111 112]\n",
      "  [121 122]]\n",
      "\n",
      " [[211 212]\n",
      "  [221 222]]]\n",
      "3\n"
     ]
    }
   ],
   "source": [
    "# multidimensional array using np.array()\n",
    "\n",
    "A = np.array([ [3.4, 8.7, 9.9], \n",
    "               [1.1, -7.8, -0.7],\n",
    "               [4.1, 12.3, 4.8]])\n",
    "print(A)\n",
    "print(A.ndim)\n",
    "\n",
    "B = np.array([ [[111, 112], [121, 122]],\n",
    "               [[211, 212], [221, 222]],\n",
    "               [[311, 312], [321, 322]] ])\n",
    "print(B)\n",
    "print(B.ndim)\n",
    "\n",
    "C = np.array([ [[111, 112], [121, 122]],\n",
    "               [[211, 212], [221, 222]] ])\n",
    "print(C)\n",
    "print(C.ndim)"
   ]
  },
  {
   "cell_type": "code",
   "execution_count": 33,
   "metadata": {},
   "outputs": [
    {
     "name": "stdout",
     "output_type": "stream",
     "text": [
      "(6, 3)\n",
      "(6, 3)\n",
      "()\n",
      "[[67 63 87]\n",
      " [77 69 59]\n",
      " [85 87 99]\n",
      " [79 72 71]\n",
      " [63 89 93]\n",
      " [68 92 78]]\n",
      "[[67 63 87 77 69 59]\n",
      " [85 87 99 79 72 71]\n",
      " [63 89 93 68 92 78]]\n",
      "[[67 63 87 77 69 59 85 87 99]\n",
      " [79 72 71 63 89 93 68 92 78]]\n"
     ]
    }
   ],
   "source": [
    "# getting shape (axis element) of array np.shape(arr) or evuivalent arr.shape\n",
    "\n",
    "x = np.array([ [67, 63, 87],\n",
    "               [77, 69, 59],\n",
    "               [85, 87, 99],\n",
    "               [79, 72, 71],\n",
    "               [63, 89, 93],\n",
    "               [68, 92, 78]])\n",
    "print(np.shape(x))\n",
    "print(x.shape)\n",
    "\n",
    "y = np.array(42)  # shape of 0d array\n",
    "print(y.shape)\n",
    "\n",
    "# changing shape of array\n",
    "\n",
    "print(x)\n",
    "x.shape = (3,6)\n",
    "print(x)\n",
    "x.shape = (2,9)\n",
    "print(x)"
   ]
  },
  {
   "cell_type": "code",
   "execution_count": 46,
   "metadata": {
    "scrolled": false
   },
   "outputs": [
    {
     "name": "stdout",
     "output_type": "stream",
     "text": [
      "1\n",
      "21\n",
      "1.1\n",
      "1.1\n",
      "[2 3 4]\n",
      "[0 1 2 3]\n",
      "[6 7 8 9]\n",
      "[0 1 2 3 4 5 6 7 8 9]\n",
      "[[13 14 15]\n",
      " [23 24 25]\n",
      " [33 34 35]]\n",
      "[[41 42 43 44 45]\n",
      " [51 52 53 54 55]]\n",
      "[[15]\n",
      " [25]\n",
      " [35]\n",
      " [45]\n",
      " [55]]\n",
      "[[ 0  3  6]\n",
      " [ 7 10 13]\n",
      " [14 17 20]\n",
      " [21 24 27]]\n"
     ]
    },
    {
     "data": {
      "text/plain": [
       "array([[[46, 14,  4],\n",
       "        [45, 14,  5]],\n",
       "\n",
       "       [[47, 13,  2],\n",
       "        [48, 15,  5]]])"
      ]
     },
     "execution_count": 46,
     "metadata": {},
     "output_type": "execute_result"
    }
   ],
   "source": [
    "# indexing and slicing\n",
    "## indexing\n",
    "\n",
    "# single indexing\n",
    "\n",
    "F = np.array([1, 1, 2, 3, 5, 8, 13, 21])\n",
    "# print the first element of F\n",
    "print(F[0])\n",
    "# print the last element of F\n",
    "print(F[-1])\n",
    "\n",
    "# multidimensionl array\n",
    "\n",
    "A = np.array([ [3.4, 8.7, 9.9], \n",
    "               [1.1, -7.8, -0.7],\n",
    "               [4.1, 12.3, 4.8]])\n",
    "print(A[1][0])\n",
    "\n",
    "# numpy way to access multidimensional array\n",
    "\n",
    "print(A[1, 0])\n",
    "\n",
    "## slicing\n",
    "\n",
    "# 1-d\n",
    "S = np.array([0, 1, 2, 3, 4, 5, 6, 7, 8, 9])\n",
    "print(S[2:5])\n",
    "print(S[:4])\n",
    "print(S[6:])\n",
    "print(S[:])\n",
    "\n",
    "# m-d\n",
    "\n",
    "A = np.array([\n",
    "[11, 12, 13, 14, 15],\n",
    "[21, 22, 23, 24, 25],\n",
    "[31, 32, 33, 34, 35],\n",
    "[41, 42, 43, 44, 45],\n",
    "[51, 52, 53, 54, 55]])\n",
    "print(A[:3,2:])\n",
    "print(A[3:,:])\n",
    "print(A[:,-1:])\n",
    "X = np.arange(28).reshape(4, 7)\n",
    "print(X[::,::3])\n",
    "\n",
    "A = np.array(\n",
    "    [ [ [45, 12, 4], [45, 13, 5], [46, 12, 6] ], \n",
    "      [ [46, 14, 4], [45, 14, 5], [46, 11, 5] ], \n",
    "      [ [47, 13, 2], [48, 15, 5], [52, 15, 1] ] ])\n",
    "A[1:3, 0:2]  # equivalent to A[1:3, 0:2, :]"
   ]
  },
  {
   "cell_type": "code",
   "execution_count": 48,
   "metadata": {},
   "outputs": [
    {
     "name": "stdout",
     "output_type": "stream",
     "text": [
      "[[42  1  2  3]\n",
      " [ 4  5  6  7]\n",
      " [ 8  9 10 11]]\n"
     ]
    },
    {
     "data": {
      "text/plain": [
       "True"
      ]
     },
     "execution_count": 48,
     "metadata": {},
     "output_type": "execute_result"
    }
   ],
   "source": [
    "# checkingif array share same memory block using np.may_share_memory(A,B)\n",
    "\n",
    "A = np.arange(12)\n",
    "B = A.reshape(3, 4)\n",
    "A[0] = 42\n",
    "print(B)\n",
    "np.may_share_memory(A, B)  # false positive"
   ]
  },
  {
   "cell_type": "markdown",
   "metadata": {},
   "source": [
    "## dtype object and dataTypes"
   ]
  },
  {
   "cell_type": "code",
   "execution_count": 74,
   "metadata": {},
   "outputs": [
    {
     "name": "stdout",
     "output_type": "stream",
     "text": [
      "int16\n",
      "[0 1 2 3 4 5 6 7 8 9]\n"
     ]
    }
   ],
   "source": [
    "# creating dtype object using np.dytpe(numpy_type/[(numpy_type),]) --> dtype object\n",
    "\n",
    "i16 = np.dtype(np.int16)\n",
    "print(i16)\n",
    "arr = np.arange(10,dtype = i16)\n",
    "print(arr)"
   ]
  },
  {
   "cell_type": "code",
   "execution_count": 76,
   "metadata": {},
   "outputs": [
    {
     "name": "stdout",
     "output_type": "stream",
     "text": [
      "array([(123,), (234,), (345,)], dtype=[('density', '<i4')])\n"
     ]
    }
   ],
   "source": [
    "# creating column with (column_string,numpy_type)\n",
    "\n",
    "dt = np.dtype([(\"density\",np.int32)])\n",
    "arr = np.array([(123,),(234,),(345,)],dtype=dt)\n",
    "# print(arr)\n",
    "print(repr(arr))"
   ]
  },
  {
   "cell_type": "code",
   "execution_count": 77,
   "metadata": {},
   "outputs": [
    {
     "name": "stdout",
     "output_type": "stream",
     "text": [
      "[123 234 345]\n"
     ]
    }
   ],
   "source": [
    "# accessing whole column\n",
    "print(arr['density'])"
   ]
  },
  {
   "cell_type": "code",
   "execution_count": 101,
   "metadata": {},
   "outputs": [
    {
     "name": "stdout",
     "output_type": "stream",
     "text": [
      "[('Netherlands', 393,  41526, 16928800) ('Belgium', 337,  30510, 11007020)\n",
      " ('United Kingdom', 256, 243610, 62262000)\n",
      " ('Germany', 233, 357021, 81799600)]\n",
      "['Netherlands' 'Belgium' 'United Kingdom' 'Germany' 'Liechtenstein'\n",
      " 'Italy' 'Switzerland' 'Luxembourg' 'France' 'Austria' 'Greece' 'Ireland'\n",
      " 'Sweden' 'Finland' 'Norway']\n",
      "('Italy', 192, 301230, 59715625)\n",
      "Italy\n",
      "['Netherlands' 'Belgium' 'United Kingdom' 'Germany' 'Liechtenstein']\n",
      "Switzerland\n",
      "float64 = 8\n",
      "float64 = 8\n",
      "float64 > 8\n"
     ]
    }
   ],
   "source": [
    "# using string type eg. 'i4' to specifiy dtype\n",
    "# i4 --> 4 byte integer\n",
    "# '<i4' --> < --> little-endian > --> big-endian\n",
    "# no sign means machine dependent endiness\n",
    "dt2 = np.dtype([(\"country\",\"S20\"),(\"density\",'i8'),(\"area\",\"i4\"),(\"population\",\"i4\")])  # binary ASCII string (prefixed with b')\n",
    "dt2unicode = np.dtype([(\"country\",np.unicode,20),(\"density\",'i8'),(\"area\",\"i4\"),(\"population\",\"i4\")])  # unicode string\n",
    "\n",
    "arr = np.array([ ('Netherlands', 393, 41526, 16928800),\n",
    "    ('Belgium', 337, 30510, 11007020),\n",
    "    ('United Kingdom', 256, 243610, 62262000),\n",
    "    ('Germany', 233, 357021, 81799600),\n",
    "    ('Liechtenstein', 205, 160, 32842),\n",
    "    ('Italy', 192, 301230, 59715625),\n",
    "    ('Switzerland', 177, 41290, 7301994),\n",
    "    ('Luxembourg', 173, 2586, 512000),\n",
    "    ('France', 111, 547030, 63601002),\n",
    "    ('Austria', 97, 83858, 8169929),\n",
    "    ('Greece', 81, 131940, 11606813),\n",
    "    ('Ireland', 65, 70280, 4581269),\n",
    "    ('Sweden', 20, 449964, 9515744),\n",
    "    ('Finland', 16, 338424, 5410233),\n",
    "    ('Norway', 13, 385252, 5033675)],dtype=dt2unicode)\n",
    "print(arr[:4])  # accessing some row\n",
    "print(arr[\"country\"])  # accessing column\n",
    "print(arr[5])  # accessing row\n",
    "print(arr[\"country\"][5])  # accessing element of column\n",
    "print(arr[\"country\"][:5])  # accessing element of column\n",
    "print(arr[6][\"country\"])  # accessing element of column\n",
    "\n",
    "d1 = np.dtype('d')\n",
    "d2 = np.dtype('<d')\n",
    "d3 = np.dtype('>d')\n",
    "print(d1.name,d1.byteorder,d1.itemsize)  # using dt.[name,byteorder,itemsize]\n",
    "print(d2.name,d2.byteorder,d2.itemsize)\n",
    "print(d3.name,d3.byteorder,d3.itemsize)"
   ]
  },
  {
   "cell_type": "code",
   "execution_count": 118,
   "metadata": {},
   "outputs": [
    {
     "name": "stdout",
     "output_type": "stream",
     "text": [
      "[('Netherlands', 393,  41526, 16928800) ('Belgium', 337,  30510, 11007020)\n",
      " ('United Kingdom', 256, 243610, 62262000)\n",
      " ('Germany', 233, 357021, 81799600)\n",
      " ('Liechtenstein', 205,    160,    32842) ('Italy', 192, 301230, 59715625)\n",
      " ('Switzerland', 177,  41290,  7301994)\n",
      " ('Luxembourg', 173,   2586,   512000) ('France', 111, 547030, 63601002)\n",
      " ('Austria',  97,  83858,  8169929) ('Greece',  81, 131940, 11606813)\n",
      " ('Ireland',  65,  70280,  4581269) ('Sweden',  20, 449964,  9515744)\n",
      " ('Finland',  16, 338424,  5410233) ('Norway',  13, 385252,  5033675)]\n",
      "[('Netherlands', 786,  41526, 16928800) ('Belgium', 674,  30510, 11007020)\n",
      " ('United Kingdom', 512, 243610, 62262000)\n",
      " ('Germany', 466, 357021, 81799600)\n",
      " ('Liechtenstein', 410,    160,    32842) ('Italy', 384, 301230, 59715625)\n",
      " ('Switzerland', 354,  41290,  7301994)\n",
      " ('Luxembourg', 346,   2586,   512000) ('France', 222, 547030, 63601002)\n",
      " ('Austria', 194,  83858,  8169929) ('Greece', 162, 131940, 11606813)\n",
      " ('Ireland', 130,  70280,  4581269) ('Sweden',  40, 449964,  9515744)\n",
      " ('Finland',  32, 338424,  5410233) ('Norway',  26, 385252,  5033675)]\n"
     ]
    }
   ],
   "source": [
    "# storing and retriving data from file  np.savetxt(file_name,ndarray,fmt,delimiter)\n",
    "#                                       np.genfromtxt(file,dtype,delimiter) --> ndarray\n",
    "#                                       np.loadtxt(file,dtype,converters(dict),delimiter)  --> ndarray\n",
    "\n",
    "# storing CSV\n",
    "\n",
    "np.savetxt(\"file.csv\",arr,\"%s,%d,%d,%d\",delimiter=\";\")  # ??? use of delimiter\n",
    "\n",
    "# reading CSV\n",
    "# using getfromtxt\n",
    "\n",
    "x = np.genfromtxt(\"file.csv\",dtype=dt2unicode,delimiter=\",\")\n",
    "print(x)\n",
    "\n",
    "# using loadtxt\n",
    "\n",
    "x2 = np.loadtxt(\"file.csv\",dtype=dt2unicode,converters={0:lambda x:x.decode('utf-8')},delimiter=\",\")\n",
    "x3 = np.loadtxt(\"file.csv\",dtype=dt2unicode,converters={0:lambda x:x.decode('utf-8'),1:lambda x:int(x)*2},delimiter=\",\")  # argument of x is string\n",
    "\n",
    "print(x3)\n",
    "\n"
   ]
  },
  {
   "cell_type": "markdown",
   "metadata": {},
   "source": [
    "# <u>Numerical Operations</u>"
   ]
  },
  {
   "cell_type": "markdown",
   "metadata": {},
   "source": [
    "### Scalars"
   ]
  },
  {
   "cell_type": "code",
   "execution_count": 122,
   "metadata": {},
   "outputs": [
    {
     "name": "stdout",
     "output_type": "stream",
     "text": [
      "[1. 2. 3. 4. 5. 6.]\n",
      "[1.00000000e+00 4.52548340e+01 4.20888346e+02 2.04800000e+03\n",
      " 6.98771243e+03 1.90472322e+04]\n"
     ]
    }
   ],
   "source": [
    "lst = [1,2,3,4,5,6]\n",
    "narray = np.array(lst,dtype=\"d\")\n",
    "print(narray)\n",
    "narray = narray ** 5.5  # any (+-*/**) scalar operation\n",
    "print(narray)"
   ]
  },
  {
   "cell_type": "code",
   "execution_count": 123,
   "metadata": {},
   "outputs": [
    {
     "name": "stdout",
     "output_type": "stream",
     "text": [
      "[1, 2, 3, 4, 5, 6]\n",
      "[6.5, 7.5, 8.5, 9.5, 10.5, 11.5]\n"
     ]
    }
   ],
   "source": [
    "# equivalent list approach\n",
    "lst = [1,2,3,4,5,6]\n",
    "lst2 = [x+5.5 for x in lst]\n",
    "print(lst)\n",
    "print(lst2)"
   ]
  },
  {
   "cell_type": "code",
   "execution_count": 125,
   "metadata": {},
   "outputs": [
    {
     "name": "stdout",
     "output_type": "stream",
     "text": [
      "1.09 µs ± 13.8 ns per loop (mean ± std. dev. of 7 runs, 1000000 loops each)\n",
      "1.07 µs ± 98.1 ns per loop (mean ± std. dev. of 7 runs, 1000000 loops each)\n"
     ]
    }
   ],
   "source": [
    "# performance (IGNORE)\n",
    "\n",
    "%timeit narray +5.5\n",
    "%timeit [x+5.5 for x in lst]\n"
   ]
  },
  {
   "cell_type": "markdown",
   "metadata": {},
   "source": [
    "### Two arrays"
   ]
  },
  {
   "cell_type": "code",
   "execution_count": 131,
   "metadata": {},
   "outputs": [
    {
     "name": "stdout",
     "output_type": "stream",
     "text": [
      "[[0 1 2]\n",
      " [3 4 5]\n",
      " [6 7 8]]\n",
      "[[1. 0. 0.]\n",
      " [0. 1. 0.]\n",
      " [0. 0. 1.]]\n",
      "[[1. 1. 2.]\n",
      " [3. 5. 5.]\n",
      " [6. 7. 9.]]\n",
      "[[ 0.  1.  2.]\n",
      " [ 3.  8.  5.]\n",
      " [ 6.  7. 16.]]\n"
     ]
    }
   ],
   "source": [
    "# operation performed on respective element (not matrix multiplication)\n",
    "arr1 = np.arange(9).reshape(3,3)\n",
    "print (arr1)\n",
    "arr2 = np.identity(3)\n",
    "print(arr2)\n",
    "print(arr1+arr2)\n",
    "print(arr1*(arr2+1)) # (not matrix multiplication)"
   ]
  },
  {
   "cell_type": "markdown",
   "metadata": {},
   "source": [
    "### dot product"
   ]
  },
  {
   "cell_type": "code",
   "execution_count": 132,
   "metadata": {},
   "outputs": [
    {
     "name": "stdout",
     "output_type": "stream",
     "text": [
      "12\n",
      "1\n",
      "12\n",
      "-14\n"
     ]
    }
   ],
   "source": [
    "# using np.dot(array,array,out=None)  --> ndarray\n",
    "\n",
    "print(np.dot(3, 4))  # scalar\n",
    "x = np.array([3])\n",
    "y = np.array([4])\n",
    "print(x.ndim)\n",
    "print(np.dot(x, y))  # zero dimensional array\n",
    "x = np.array([3, -2])\n",
    "y = np.array([-4, 1])\n",
    "print(np.dot(x, y))  # one-d array"
   ]
  },
  {
   "cell_type": "code",
   "execution_count": 133,
   "metadata": {},
   "outputs": [
    {
     "name": "stdout",
     "output_type": "stream",
     "text": [
      "True 3\n",
      "[[ 7  7 17  4]\n",
      " [ 9  9 19  0]]\n"
     ]
    }
   ],
   "source": [
    "A = np.array([ [1, 2, 3], \n",
    "               [3, 2, 1] ])\n",
    "B = np.array([ [2, 3, 4, -2], \n",
    "               [1, -1, 2, 3],\n",
    "               [1, 2, 3, 0] ])\n",
    "# es muss gelten:\n",
    "print(A.shape[-1] == B.shape[-2], A.shape[1])  # checking condition\n",
    "print(np.dot(A, B))  # 2-d array"
   ]
  },
  {
   "cell_type": "code",
   "execution_count": 134,
   "metadata": {},
   "outputs": [
    {
     "name": "stdout",
     "output_type": "stream",
     "text": [
      "The shapes:\n",
      "(3, 3, 3)\n",
      "(3, 3, 3)\n",
      "(3, 3, 3, 3)\n",
      "\n",
      "The Result R:\n",
      "[[[[14 19 15]\n",
      "   [15 15  9]\n",
      "   [13  9 18]]\n",
      "\n",
      "  [[18 24 20]\n",
      "   [20 20 12]\n",
      "   [18 12 22]]\n",
      "\n",
      "  [[15 18 22]\n",
      "   [22 13 12]\n",
      "   [21  9 14]]]\n",
      "\n",
      "\n",
      " [[[16 21 19]\n",
      "   [19 16 11]\n",
      "   [17 10 19]]\n",
      "\n",
      "  [[25 32 32]\n",
      "   [32 23 18]\n",
      "   [29 15 28]]\n",
      "\n",
      "  [[13 18 12]\n",
      "   [12 18  8]\n",
      "   [11 10 17]]]\n",
      "\n",
      "\n",
      " [[[11 14 14]\n",
      "   [14 11  8]\n",
      "   [13  7 12]]\n",
      "\n",
      "  [[17 23 19]\n",
      "   [19 16 11]\n",
      "   [16 10 22]]\n",
      "\n",
      "  [[19 25 23]\n",
      "   [23 17 13]\n",
      "   [20 11 23]]]]\n"
     ]
    }
   ],
   "source": [
    "X = np.array( [[[3, 1, 2],\n",
    "                [4, 2, 2],\n",
    "                [2, 4, 1]],\n",
    "               [[3, 2, 2],\n",
    "                [4, 4, 3],\n",
    "                [4, 1, 1]],\n",
    "               [[2, 2, 1],\n",
    "                [3, 1, 3],\n",
    "                [3, 2, 3]]])\n",
    "Y = np.array( [[[2, 3, 1],\n",
    "                [2, 2, 4],\n",
    "                [3, 4, 4]],\n",
    "            \n",
    "               [[1, 4, 1],\n",
    "                [4, 1, 2],\n",
    "                [4, 1, 2]],\n",
    "            \n",
    "               [[1, 2, 3],\n",
    "                [4, 1, 1],\n",
    "                [3, 1, 4]]])\n",
    "R = np.dot(X, Y)  # 3-d array\n",
    "print(\"The shapes:\")\n",
    "print(X.shape)\n",
    "print(Y.shape)\n",
    "print(R.shape)\n",
    "print(\"\\nThe Result R:\")\n",
    "print(R)"
   ]
  },
  {
   "cell_type": "markdown",
   "metadata": {},
   "source": [
    "## Numpy Matrix"
   ]
  },
  {
   "cell_type": "code",
   "execution_count": 136,
   "metadata": {},
   "outputs": [
    {
     "name": "stdout",
     "output_type": "stream",
     "text": [
      "[[ 3  4  3]\n",
      " [ 2  4  6]\n",
      " [-3 -6 -9]] <class 'numpy.ndarray'>\n",
      "[[ 2  0 -2]\n",
      " [ 6  4  2]\n",
      " [ 9  6  3]] <class 'numpy.matrixlib.defmatrix.matrix'>\n"
     ]
    }
   ],
   "source": [
    "# using np.mat(array)  --> matrix\n",
    "\n",
    "A = np.array([ [1, 2, 3], [2, 2, 2], [3, 3, 3] ])\n",
    "B = np.array([ [3, 2, 1], [1, 2, 3], [-1, -2, -3] ])\n",
    "print(A*B,type(A*B))\n",
    "\n",
    "MA = np.mat(A)\n",
    "MB = np.mat(B)\n",
    "print(MA*MB,type(MA*MB))"
   ]
  },
  {
   "cell_type": "markdown",
   "metadata": {},
   "source": [
    "### Comparision/logical operator on Array"
   ]
  },
  {
   "cell_type": "code",
   "execution_count": 137,
   "metadata": {},
   "outputs": [
    {
     "name": "stdout",
     "output_type": "stream",
     "text": [
      "[[ True False  True]\n",
      " [False  True False]\n",
      " [ True  True False]] bool\n"
     ]
    }
   ],
   "source": [
    "# this compare array elementwise\n",
    "A = np.array([ [11, 12, 13], [21, 22, 23], [31, 32, 33] ])\n",
    "B = np.array([ [11, 102, 13], [201, 22, 203], [31, 32, 303] ])\n",
    "C = A==B\n",
    "print(C,C.dtype)"
   ]
  },
  {
   "cell_type": "code",
   "execution_count": 138,
   "metadata": {},
   "outputs": [
    {
     "name": "stdout",
     "output_type": "stream",
     "text": [
      "False\n"
     ]
    }
   ],
   "source": [
    "# comparing whole array use np.array_equal(arr,arr)  --> bool\n",
    "\n",
    "print(np.array_equal(A,B))"
   ]
  },
  {
   "cell_type": "code",
   "execution_count": 139,
   "metadata": {},
   "outputs": [
    {
     "name": "stdout",
     "output_type": "stream",
     "text": [
      "[[ True  True]\n",
      " [ True False]]\n",
      "[[ True False]\n",
      " [False False]]\n"
     ]
    }
   ],
   "source": [
    "# elementwise logical and/or using np.logical_[or/and](arr,arr) -->bool_array\n",
    "\n",
    "a = np.array([ [True, True], [False, False]])\n",
    "b = np.array([ [True, False], [True, False]])\n",
    "print(np.logical_or(a,b))\n",
    "print(np.logical_and(a,b))"
   ]
  },
  {
   "cell_type": "markdown",
   "metadata": {},
   "source": [
    "### Broadcasting"
   ]
  },
  {
   "cell_type": "markdown",
   "metadata": {},
   "source": [
    "#### example1\n",
    "<img src=\"files/broadcasting_example_1.png\">"
   ]
  },
  {
   "cell_type": "code",
   "execution_count": 140,
   "metadata": {},
   "outputs": [
    {
     "name": "stdout",
     "output_type": "stream",
     "text": [
      "Multiplication with broadcasting: \n",
      "[[11 24 39]\n",
      " [21 44 69]\n",
      " [31 64 99]]\n",
      "... and now addition with broadcasting: \n",
      "[[12 14 16]\n",
      " [22 24 26]\n",
      " [32 34 36]]\n"
     ]
    }
   ],
   "source": [
    "A = np.array([ [11, 12, 13], [21, 22, 23], [31, 32, 33] ])\n",
    "B = np.array([1, 2, 3])\n",
    "print(\"Multiplication with broadcasting: \")\n",
    "print(A * B)\n",
    "print(\"... and now addition with broadcasting: \")\n",
    "print(A + B)"
   ]
  },
  {
   "cell_type": "markdown",
   "metadata": {},
   "source": [
    "#### example2\n",
    "<img src=\"files/broadcasting_example_2.png\">"
   ]
  },
  {
   "cell_type": "code",
   "execution_count": 142,
   "metadata": {},
   "outputs": [
    {
     "name": "stdout",
     "output_type": "stream",
     "text": [
      "[[12 13 14]\n",
      " [23 24 25]\n",
      " [34 35 36]]\n",
      "[[11 12 13]\n",
      " [42 44 46]\n",
      " [93 96 99]]\n"
     ]
    }
   ],
   "source": [
    "A = np.array([ [11, 12, 13], [21, 22, 23], [31, 32, 33] ])\n",
    "B = np.array([1, 2, 3])\n",
    "B = B[:,np.newaxis]  # using newaxis to interchange row  <-->  column\n",
    "print(A+B)\n",
    "print(A*B)"
   ]
  },
  {
   "cell_type": "markdown",
   "metadata": {},
   "source": [
    "#### example3\n",
    "<img src=\"files/broadcasting_example_3.png\">"
   ]
  },
  {
   "cell_type": "code",
   "execution_count": 144,
   "metadata": {},
   "outputs": [
    {
     "name": "stdout",
     "output_type": "stream",
     "text": [
      "[[10 20 30]\n",
      " [20 40 60]\n",
      " [30 60 90]]\n",
      "[[10 20 30]\n",
      " [20 40 60]\n",
      " [30 60 90]]\n"
     ]
    }
   ],
   "source": [
    "A = np.array([10, 20, 30])\n",
    "B = np.array([1, 2, 3])\n",
    "# 1st way\n",
    "\n",
    "print(A*B[:,np.newaxis])\n",
    "\n",
    "# 2nd way\n",
    "\n",
    "print(A[:,np.newaxis]*B)"
   ]
  },
  {
   "cell_type": "markdown",
   "metadata": {},
   "source": [
    "# <u>Changing dimension of array</u>\n",
    "<img src = \"files/axis.png\">"
   ]
  },
  {
   "cell_type": "markdown",
   "metadata": {},
   "source": [
    "## <u>Flatten</u> : convert to 1-d array"
   ]
  },
  {
   "cell_type": "code",
   "execution_count": 154,
   "metadata": {},
   "outputs": [
    {
     "name": "stdout",
     "output_type": "stream",
     "text": [
      "[ 0  1  2  3  4  5  6  7  8  9 10 11 12 13 14 15 16 17 18 19 20 21 22 23]\n",
      "[ 0  8 16  2 10 18  4 12 20  6 14 22  1  9 17  3 11 19  5 13 21  7 15 23]\n",
      "[ 0  1  2  3  4  5  6  7  8  9 10 11 12 13 14 15 16 17 18 19 20 21 22 23]\n"
     ]
    }
   ],
   "source": [
    "# using arr.flatten(order=\"A|F|C\") --> 1-d array\n",
    "\n",
    "A = np.array([[[ 0,  1],\n",
    "               [ 2,  3],\n",
    "               [ 4,  5],\n",
    "               [ 6,  7]],\n",
    "              [[ 8,  9],\n",
    "               [10, 11],\n",
    "               [12, 13],\n",
    "               [14, 15]],\n",
    "              [[16, 17],\n",
    "               [18, 19],\n",
    "               [20, 21],\n",
    "               [22, 23]]])\n",
    "\n",
    "print(A.flatten(order = \"C\"))  # C-style order row-first\n",
    "print(A.flatten(order = \"F\"))  # fortran style order column-first\n",
    "print(A.flatten(order = \"A\"))"
   ]
  },
  {
   "cell_type": "code",
   "execution_count": 152,
   "metadata": {},
   "outputs": [
    {
     "name": "stdout",
     "output_type": "stream",
     "text": [
      "[ 0  1  2  3  4  5  6  7  8  9 10 11 12 13 14 15 16 17 18 19 20 21 22 23]\n",
      "[ 0  1  2  3  4  5  6  7  8  9 10 11 12 13 14 15 16 17 18 19 20 21 22 23]\n",
      "[ 0  8 16  2 10 18  4 12 20  6 14 22  1  9 17  3 11 19  5 13 21  7 15 23]\n",
      "[ 0  1  2  3  4  5  6  7  8  9 10 11 12 13 14 15 16 17 18 19 20 21 22 23]\n",
      "[ 0  1  2  3  4  5  6  7  8  9 10 11 12 13 14 15 16 17 18 19 20 21 22 23]\n",
      "[ 0  8 16  2 10 18  4 12 20  6 14 22  1  9 17  3 11 19  5 13 21  7 15 23]\n"
     ]
    }
   ],
   "source": [
    "# using arr.ravel(order = \"A|C|F|K\")  --> 1d array\n",
    "# using np.ravel(a,order)\n",
    "\n",
    "print(A.ravel())\n",
    "print(A.ravel(order=\"A\"))\n",
    "print(A.ravel(order=\"F\"))\n",
    "print(A.ravel(order=\"A\"))\n",
    "print(A.ravel(order=\"K\"))\n",
    "print(np.ravel(A,order=\"F\"))"
   ]
  },
  {
   "cell_type": "markdown",
   "metadata": {},
   "source": [
    "### Reshape"
   ]
  },
  {
   "cell_type": "code",
   "execution_count": 160,
   "metadata": {},
   "outputs": [
    {
     "name": "stdout",
     "output_type": "stream",
     "text": [
      "[ 0  1  2  3  4  5  6  7  8  9 10 11 12 13 14 15 16 17 18 19 20 21 22 23\n",
      " 24 25 26 27 28 29 30 31 32 33 34 35 36 37 38 39 40 41 42 43 44 45 46 47\n",
      " 48 49 50 51 52 53 54 55 56 57 58 59 60 61 62 63 64 65 66 67 68 69 70 71\n",
      " 72 73 74 75 76 77 78 79 80 81 82 83 84 85 86 87 88 89 90 91 92 93 94 95\n",
      " 96 97 98 99]\n",
      "[[[ 0  1  2  3  4  5  6  7  8  9]\n",
      "  [10 11 12 13 14 15 16 17 18 19]\n",
      "  [20 21 22 23 24 25 26 27 28 29]\n",
      "  [30 31 32 33 34 35 36 37 38 39]\n",
      "  [40 41 42 43 44 45 46 47 48 49]]\n",
      "\n",
      " [[50 51 52 53 54 55 56 57 58 59]\n",
      "  [60 61 62 63 64 65 66 67 68 69]\n",
      "  [70 71 72 73 74 75 76 77 78 79]\n",
      "  [80 81 82 83 84 85 86 87 88 89]\n",
      "  [90 91 92 93 94 95 96 97 98 99]]]\n",
      "\n",
      "\n",
      " [[[ 0 10 20 30 40 50 60 70 80 90]\n",
      "  [ 5 15 25 35 45 55 65 75 85 95]]\n",
      "\n",
      " [[ 1 11 21 31 41 51 61 71 81 91]\n",
      "  [ 6 16 26 36 46 56 66 76 86 96]]\n",
      "\n",
      " [[ 2 12 22 32 42 52 62 72 82 92]\n",
      "  [ 7 17 27 37 47 57 67 77 87 97]]\n",
      "\n",
      " [[ 3 13 23 33 43 53 63 73 83 93]\n",
      "  [ 8 18 28 38 48 58 68 78 88 98]]\n",
      "\n",
      " [[ 4 14 24 34 44 54 64 74 84 94]\n",
      "  [ 9 19 29 39 49 59 69 79 89 99]]]\n"
     ]
    }
   ],
   "source": [
    "#using arr.reshape(newshape_tuple,order=\"C|F|A\")\n",
    "#using np.reshape(arr,newshape_tuple,order)\n",
    "\n",
    "X = np.arange(100,dtype = int)\n",
    "print(X)\n",
    "Y = np.reshape(X,(2,5,10),order = \"C\")\n",
    "print(Y)\n",
    "Z = X.reshape((5,2,10),order = \"F\")\n",
    "print(\"\\n\\n\",Z)"
   ]
  },
  {
   "cell_type": "markdown",
   "metadata": {},
   "source": [
    "## <u>Concatenating arrays</u>"
   ]
  },
  {
   "cell_type": "code",
   "execution_count": 161,
   "metadata": {},
   "outputs": [
    {
     "name": "stdout",
     "output_type": "stream",
     "text": [
      "[ 0  1  2  3  4  5  6  7  8  9 10 11 12 13 14]\n"
     ]
    }
   ],
   "source": [
    "# using np.concatenate(arr_tuple,axis=0) --> ndarray\n",
    "\n",
    "x = np.arange(5);\n",
    "y = np.arange(5,10);\n",
    "z = np.arange(10,15);\n",
    "c = np.concatenate((x,y,z))  #\n",
    "print(c)"
   ]
  },
  {
   "cell_type": "code",
   "execution_count": 165,
   "metadata": {},
   "outputs": [
    {
     "name": "stdout",
     "output_type": "stream",
     "text": [
      "[[[ 0  1  2  3  4  5  6  7  8  9]\n",
      "  [10 11 12 13 14 15 16 17 18 19]\n",
      "  [20 21 22 23 24 25 26 27 28 29]\n",
      "  [30 31 32 33 34 35 36 37 38 39]\n",
      "  [40 41 42 43 44 45 46 47 48 49]]] \n",
      "\n",
      " [[[50 51 52 53 54 55 56 57 58 59]\n",
      "  [60 61 62 63 64 65 66 67 68 69]\n",
      "  [70 71 72 73 74 75 76 77 78 79]\n",
      "  [80 81 82 83 84 85 86 87 88 89]\n",
      "  [90 91 92 93 94 95 96 97 98 99]]]\n",
      "\n",
      "\n",
      " [[[ 0  1  2  3  4  5  6  7  8  9]\n",
      "  [10 11 12 13 14 15 16 17 18 19]\n",
      "  [20 21 22 23 24 25 26 27 28 29]\n",
      "  [30 31 32 33 34 35 36 37 38 39]\n",
      "  [40 41 42 43 44 45 46 47 48 49]]\n",
      "\n",
      " [[50 51 52 53 54 55 56 57 58 59]\n",
      "  [60 61 62 63 64 65 66 67 68 69]\n",
      "  [70 71 72 73 74 75 76 77 78 79]\n",
      "  [80 81 82 83 84 85 86 87 88 89]\n",
      "  [90 91 92 93 94 95 96 97 98 99]]]\n"
     ]
    }
   ],
   "source": [
    "# concatenating multidimenstional array\n",
    "# NOTE: dimension should be same\n",
    "# axis = 0 by default\n",
    "\n",
    "x = np.arange(50)\n",
    "y = np.arange(50,100)\n",
    "x = x.reshape((1,5,10))\n",
    "y = y.reshape((1,5,10))\n",
    "print(x,\"\\n\\n\",y)\n",
    "c = np.concatenate((x,y))\n",
    "print(\"\\n\\n\",c)\n"
   ]
  },
  {
   "cell_type": "code",
   "execution_count": 167,
   "metadata": {},
   "outputs": [
    {
     "name": "stdout",
     "output_type": "stream",
     "text": [
      "axis=1\n",
      " [[[ 0  1  2  3  4  5  6  7  8  9]\n",
      "  [10 11 12 13 14 15 16 17 18 19]\n",
      "  [20 21 22 23 24 25 26 27 28 29]\n",
      "  [30 31 32 33 34 35 36 37 38 39]\n",
      "  [40 41 42 43 44 45 46 47 48 49]\n",
      "  [50 51 52 53 54 55 56 57 58 59]\n",
      "  [60 61 62 63 64 65 66 67 68 69]\n",
      "  [70 71 72 73 74 75 76 77 78 79]\n",
      "  [80 81 82 83 84 85 86 87 88 89]\n",
      "  [90 91 92 93 94 95 96 97 98 99]]]\n",
      "\n",
      "\n",
      "axis=2\n",
      " [[[ 0  1  2  3  4  5  6  7  8  9 50 51 52 53 54 55 56 57 58 59]\n",
      "  [10 11 12 13 14 15 16 17 18 19 60 61 62 63 64 65 66 67 68 69]\n",
      "  [20 21 22 23 24 25 26 27 28 29 70 71 72 73 74 75 76 77 78 79]\n",
      "  [30 31 32 33 34 35 36 37 38 39 80 81 82 83 84 85 86 87 88 89]\n",
      "  [40 41 42 43 44 45 46 47 48 49 90 91 92 93 94 95 96 97 98 99]]]\n"
     ]
    }
   ],
   "source": [
    "# axis = 1\n",
    "print(\"axis=1\\n\",np.concatenate((x,y),axis = 1))\n",
    "# axis = 2\n",
    "print(\"\\n\\naxis=2\\n\",np.concatenate((x,y),axis = 2))"
   ]
  },
  {
   "cell_type": "markdown",
   "metadata": {},
   "source": [
    "### Adding new dimension"
   ]
  },
  {
   "cell_type": "code",
   "execution_count": 174,
   "metadata": {},
   "outputs": [
    {
     "name": "stdout",
     "output_type": "stream",
     "text": [
      "1D\n",
      " [0 1 2 3 4 5 6 7 8 9]\n",
      "\n",
      "2D\n",
      " [[0]\n",
      " [1]\n",
      " [2]\n",
      " [3]\n",
      " [4]\n",
      " [5]\n",
      " [6]\n",
      " [7]\n",
      " [8]\n",
      " [9]]\n",
      "\n",
      "also\n",
      " [[0 1 2 3 4 5 6 7 8 9]]\n",
      "\n",
      "2D\n",
      " [[ 0  1  2  3  4  5  6  7  8  9]\n",
      " [10 11 12 13 14 15 16 17 18 19]\n",
      " [20 21 22 23 24 25 26 27 28 29]\n",
      " [30 31 32 33 34 35 36 37 38 39]\n",
      " [40 41 42 43 44 45 46 47 48 49]]\n",
      "\n",
      "3D\n",
      " [[[ 0  1  2  3  4  5  6  7  8  9]\n",
      "  [10 11 12 13 14 15 16 17 18 19]\n",
      "  [20 21 22 23 24 25 26 27 28 29]\n",
      "  [30 31 32 33 34 35 36 37 38 39]\n",
      "  [40 41 42 43 44 45 46 47 48 49]]]\n",
      "\n",
      "3D another\n",
      " [[[ 0  1  2  3  4  5  6  7  8  9]]\n",
      "\n",
      " [[10 11 12 13 14 15 16 17 18 19]]\n",
      "\n",
      " [[20 21 22 23 24 25 26 27 28 29]]\n",
      "\n",
      " [[30 31 32 33 34 35 36 37 38 39]]\n",
      "\n",
      " [[40 41 42 43 44 45 46 47 48 49]]]\n",
      "\n",
      "3D also\n",
      " [[[ 0]\n",
      "  [ 1]\n",
      "  [ 2]\n",
      "  [ 3]\n",
      "  [ 4]\n",
      "  [ 5]\n",
      "  [ 6]\n",
      "  [ 7]\n",
      "  [ 8]\n",
      "  [ 9]]\n",
      "\n",
      " [[10]\n",
      "  [11]\n",
      "  [12]\n",
      "  [13]\n",
      "  [14]\n",
      "  [15]\n",
      "  [16]\n",
      "  [17]\n",
      "  [18]\n",
      "  [19]]\n",
      "\n",
      " [[20]\n",
      "  [21]\n",
      "  [22]\n",
      "  [23]\n",
      "  [24]\n",
      "  [25]\n",
      "  [26]\n",
      "  [27]\n",
      "  [28]\n",
      "  [29]]\n",
      "\n",
      " [[30]\n",
      "  [31]\n",
      "  [32]\n",
      "  [33]\n",
      "  [34]\n",
      "  [35]\n",
      "  [36]\n",
      "  [37]\n",
      "  [38]\n",
      "  [39]]\n",
      "\n",
      " [[40]\n",
      "  [41]\n",
      "  [42]\n",
      "  [43]\n",
      "  [44]\n",
      "  [45]\n",
      "  [46]\n",
      "  [47]\n",
      "  [48]\n",
      "  [49]]]\n"
     ]
    }
   ],
   "source": [
    "# using slicing and np.newaxis\n",
    "\n",
    "# 1d --> 2d\n",
    "D1 = np.arange(10)\n",
    "print(\"1D\\n\",D1)\n",
    "D2 = D1[:,np.newaxis]\n",
    "print(\"\\n2D\\n\",D2)\n",
    "D22 = D1[np.newaxis,:]\n",
    "print(\"\\nalso\\n\",D22)\n",
    "\n",
    "# 2d --> 3d\n",
    "\n",
    "D2 = np.arange(50).reshape((5,10))\n",
    "print(\"\\n2D\\n\",D2)\n",
    "print(\"\\n3D\\n\",D2[np.newaxis,:,:])  # new axis at 0-axis\n",
    "print(\"\\n3D another\\n\",D2[:,np.newaxis,:])  # new axis at 1-axis\n",
    "print(\"\\n3D also\\n\",D2[:,:,np.newaxis])  # new axis at 2-axis"
   ]
  },
  {
   "cell_type": "markdown",
   "metadata": {},
   "source": [
    "### Vector stacking"
   ]
  },
  {
   "cell_type": "code",
   "execution_count": 183,
   "metadata": {},
   "outputs": [
    {
     "name": "stdout",
     "output_type": "stream",
     "text": [
      "[[1 2 3]\n",
      " [4 5 6]] \n",
      "\n",
      "\n",
      "[[1 4]\n",
      " [2 5]\n",
      " [3 6]] \n",
      "\n",
      "\n",
      "[[[1 4]\n",
      "  [2 5]\n",
      "  [3 6]]] \n",
      "\n",
      "\n",
      "\n",
      "\n",
      " [[1 2 3]\n",
      " [4 5 6]] \n",
      "\n",
      " [[ 7  8  9]\n",
      " [10 11 12]] \n",
      "\n",
      "\n",
      "[[ 1  2  3]\n",
      " [ 4  5  6]\n",
      " [ 7  8  9]\n",
      " [10 11 12]] \n",
      "\n",
      "\n",
      "[[ 1  2  3  7  8  9]\n",
      " [ 4  5  6 10 11 12]] \n",
      "\n",
      "\n",
      "[[[ 1  7]\n",
      "  [ 2  8]\n",
      "  [ 3  9]]\n",
      "\n",
      " [[ 4 10]\n",
      "  [ 5 11]\n",
      "  [ 6 12]]] \n",
      "\n",
      "\n"
     ]
    }
   ],
   "source": [
    "# using np.row_stack(arr_tuple)\n",
    "#       np.column_stack(arr_tuple)\n",
    "#       np.dstack(arr_tuple)\n",
    "# dimension should be same\n",
    "\n",
    "# 1-d array\n",
    "A = np.array([1,2,3])\n",
    "B = np.array([4,5,6])\n",
    "print(np.row_stack((A,B)),\"\\n\\n\")\n",
    "print(np.column_stack((A,B)),\"\\n\\n\")\n",
    "print(np.dstack((A,B)),\"\\n\\n\")\n",
    "\n",
    "# 2-d array\n",
    "\n",
    "A = np.array([[1,2,3],[4,5,6]])\n",
    "B = np.array([[7,8,9],[10,11,12]])\n",
    "print(\"\\n\\n\",A,\"\\n\\n\",B,\"\\n\\n\")\n",
    "print(np.row_stack((A,B)),\"\\n\\n\")\n",
    "print(np.column_stack((A,B)),\"\\n\\n\")\n",
    "print(np.dstack((A,B)),\"\\n\\n\")"
   ]
  },
  {
   "cell_type": "markdown",
   "metadata": {},
   "source": [
    "### Repeating pattern using \"tile()\""
   ]
  },
  {
   "cell_type": "code",
   "execution_count": 184,
   "metadata": {},
   "outputs": [
    {
     "name": "stdout",
     "output_type": "stream",
     "text": [
      "[[1 2 1 2 1 2 1 2]\n",
      " [3 4 3 4 3 4 3 4]\n",
      " [1 2 1 2 1 2 1 2]\n",
      " [3 4 3 4 3 4 3 4]\n",
      " [1 2 1 2 1 2 1 2]\n",
      " [3 4 3 4 3 4 3 4]\n",
      " [1 2 1 2 1 2 1 2]\n",
      " [3 4 3 4 3 4 3 4]\n",
      " [1 2 1 2 1 2 1 2]\n",
      " [3 4 3 4 3 4 3 4]]\n"
     ]
    }
   ],
   "source": [
    "# using np.tile(arr,reps)  --> reps tuple\n",
    "\n",
    "x = np.array([ [1, 2], [3, 4]])\n",
    "print(np.tile(x,(5,4)))"
   ]
  },
  {
   "cell_type": "markdown",
   "metadata": {},
   "source": [
    "# <u>Probability</u>"
   ]
  },
  {
   "cell_type": "markdown",
   "metadata": {},
   "source": [
    "## <u>Random</u> number and choices"
   ]
  },
  {
   "cell_type": "markdown",
   "metadata": {},
   "source": [
    "### Random Numbers"
   ]
  },
  {
   "cell_type": "code",
   "execution_count": 187,
   "metadata": {},
   "outputs": [
    {
     "name": "stdout",
     "output_type": "stream",
     "text": [
      "0.4482776815319799\n"
     ]
    }
   ],
   "source": [
    "# using random.random() --> [0,1)\n",
    "# not cyptographically safe\n",
    "import random\n",
    "rnd = random.random()\n",
    "print(rnd)"
   ]
  },
  {
   "cell_type": "code",
   "execution_count": 191,
   "metadata": {},
   "outputs": [
    {
     "name": "stdout",
     "output_type": "stream",
     "text": [
      "0.9026982190162652\n"
     ]
    }
   ],
   "source": [
    "# using SystemRandom class --> [0,1)\n",
    "# cryptographically safe\n",
    "cls = random.SystemRandom()\n",
    "print(cls.random())"
   ]
  },
  {
   "cell_type": "code",
   "execution_count": 201,
   "metadata": {},
   "outputs": [
    {
     "name": "stdout",
     "output_type": "stream",
     "text": [
      "24.9 µs ± 3.1 µs per loop (mean ± std. dev. of 7 runs, 10000 loops each)\n",
      "215 µs ± 34.8 µs per loop (mean ± std. dev. of 7 runs, 1000 loops each)\n",
      "92.6 µs ± 7.7 µs per loop (mean ± std. dev. of 7 runs, 10000 loops each)\n",
      "4.44 µs ± 212 ns per loop (mean ± std. dev. of 7 runs, 100000 loops each)\n",
      "192 ns ± 22.5 ns per loop (mean ± std. dev. of 7 runs, 10000000 loops each)\n",
      "1.47 µs ± 22.6 ns per loop (mean ± std. dev. of 7 runs, 1000000 loops each)\n",
      "885 ns ± 14.6 ns per loop (mean ± std. dev. of 7 runs, 1000000 loops each)\n"
     ]
    }
   ],
   "source": [
    "# PRACTICE: generate list of random numbers\n",
    "def random_list(n,secure = 0):\n",
    "    if secure == 0:\n",
    "        rnd = random\n",
    "    elif secure == 1:\n",
    "        rnd = random.SystemRandom()\n",
    "    else:\n",
    "        rnd = np.random\n",
    "    return [rnd.random() for x in range(n)]\n",
    "# print(random_list(20))\n",
    "# print(random_list(20,True))\n",
    "# print(random_list(40))\n",
    "# print(random_list(40,True))\n",
    "\n",
    "# performance testing\n",
    "%timeit random_list(100)\n",
    "%timeit random_list(100,1)\n",
    "%timeit random_list(100,2)\n",
    "%timeit np.random.random(100)\n",
    "%timeit random.random()\n",
    "sec = random.SystemRandom()\n",
    "%timeit sec.random()\n",
    "%timeit np.random.random()\n",
    "\n"
   ]
  },
  {
   "cell_type": "code",
   "execution_count": 203,
   "metadata": {},
   "outputs": [
    {
     "name": "stdout",
     "output_type": "stream",
     "text": [
      "0.5562301715078897\n",
      "[0.93993154 0.49746858 0.0161347  0.47523834 0.98506233 0.48179622\n",
      " 0.15578855 0.29828649 0.75895811 0.09334733]\n"
     ]
    }
   ],
   "source": [
    "# using numpy random number generator np.random.random(list_len)  --> ndarray\n",
    "# not secure\n",
    "print(np.random.random())\n",
    "print(np.random.random(10))\n"
   ]
  },
  {
   "cell_type": "markdown",
   "metadata": {},
   "source": [
    "#### Sum to one\n",
    "<i>p1+p2+p3+...+pn = 1</i>"
   ]
  },
  {
   "cell_type": "code",
   "execution_count": 205,
   "metadata": {},
   "outputs": [
    {
     "name": "stdout",
     "output_type": "stream",
     "text": [
      "[0.18227005 0.92705011 0.98853109 0.60506072 0.9757473  0.32375663\n",
      " 0.68007246 0.50055386 0.87372759 0.3387795  0.09091392 0.10680419\n",
      " 0.65209793 0.76510144 0.46570016 0.8390533  0.79470765 0.68514023\n",
      " 0.21633265 0.51367307 0.92814833 0.59346003 0.037932   0.12443782\n",
      " 0.15415964 0.23751156 0.81771884 0.66567034 0.23887639 0.94353648\n",
      " 0.838727   0.64357568 0.77001931 0.48891249 0.5596574  0.15148528\n",
      " 0.20501057 0.22059789 0.90382313 0.12149789 0.94048456 0.89797663\n",
      " 0.41282156 0.92272499 0.36594889 0.48294182 0.84551425 0.82734679\n",
      " 0.08779187 0.1621394 ]\n",
      "27.115522694630183\n",
      "[0.00672198 0.03418891 0.03645628 0.02231418 0.03598482 0.0119399\n",
      " 0.02508056 0.01846005 0.03222241 0.01249393 0.00335284 0.00393886\n",
      " 0.02404888 0.02821636 0.01717467 0.03094365 0.02930822 0.02526745\n",
      " 0.00797818 0.01894387 0.03422941 0.02188636 0.0013989  0.00458917\n",
      " 0.00568529 0.00875925 0.03015685 0.02454942 0.00880958 0.03479691\n",
      " 0.03093162 0.02373458 0.02839773 0.01803072 0.02063974 0.00558666\n",
      " 0.00756063 0.00813548 0.03333231 0.00448075 0.03468436 0.0331167\n",
      " 0.01522455 0.0340294  0.01349592 0.01781053 0.03118193 0.03051192\n",
      " 0.0032377  0.00597958] \n",
      "\n",
      " 1.0\n"
     ]
    }
   ],
   "source": [
    "# using arr.sum() to add array\n",
    "# using arr/sum to normalize to 1\n",
    "\n",
    "rnarr = np.random.random(50)\n",
    "print(rnarr)\n",
    "rnsum = rnarr.sum()\n",
    "print(rnsum)\n",
    "prob = rnarr/rnsum\n",
    "print(prob,\"\\n\\n\",prob.sum())"
   ]
  },
  {
   "cell_type": "code",
   "execution_count": 224,
   "metadata": {},
   "outputs": [
    {
     "name": "stdout",
     "output_type": "stream",
     "text": [
      "tAXVnAgCueSdTqgDCNekbLurZstxHtZStBYqpSrhbWpDKbkNOayknvboWlrlFKtAXzyXXijGHHJowyUVoOCYngAscwTeumuplXPH\n"
     ]
    }
   ],
   "source": [
    "# PRACTICE: create random password creator\n",
    "def passwd(n,t=3):\n",
    "\n",
    "    lst = [\"abcdefghijklmnopqrstuvwxyz\",\"ABCDEFGHIJKLMNOPQRSTUVWXYZ\",\"0123456789\",\"_@#$&*!%\"]\n",
    "    l2 = [len(lst[0]),len(lst[1]),len(lst[2]),len(lst[3])]\n",
    "    sr = random.SystemRandom()\n",
    "    l = []\n",
    "    while(n>0):\n",
    "        r = sr.randint(0,t)\n",
    "        l.append(lst[r][sr.randint(0,l2[r]-1)])\n",
    "        n-=1\n",
    "    return \"\".join(l)\n",
    "print(passwd(100,1))"
   ]
  },
  {
   "cell_type": "markdown",
   "metadata": {},
   "source": [
    "#### Random Integer"
   ]
  },
  {
   "cell_type": "code",
   "execution_count": 226,
   "metadata": {},
   "outputs": [
    {
     "name": "stdout",
     "output_type": "stream",
     "text": [
      "[2, 1, 6, 6, 4, 6]\n"
     ]
    }
   ],
   "source": [
    "# using \"PURE\" python\n",
    "# using random.randint(start,end)\n",
    "# NOTE: it gives [start,end)\n",
    "\n",
    "print([random.randint(1,6) for _ in range(6)])"
   ]
  },
  {
   "cell_type": "code",
   "execution_count": 230,
   "metadata": {},
   "outputs": [
    {
     "name": "stdout",
     "output_type": "stream",
     "text": [
      "3\n",
      "[2]\n",
      "[4 2 2 2 2 5]\n",
      "[[4 1 1 6 6 1]\n",
      " [5 2 4 4 6 6]\n",
      " [2 4 1 4 6 2]]\n"
     ]
    }
   ],
   "source": [
    "# using numpy np.random.randint(start,end,arr_size)\n",
    "\n",
    "print(np.random.randint(1,7))  # without size, size = None\n",
    "print(np.random.randint(1,7,size = 1))  # size = 1\n",
    "print(np.random.randint(1,7,size = 6))  # size = 6\n",
    "print(np.random.randint(1,7,size = (3,6)))  # 3x6 array"
   ]
  },
  {
   "cell_type": "markdown",
   "metadata": {},
   "source": [
    "\n",
    "### Choices and samples"
   ]
  },
  {
   "cell_type": "code",
   "execution_count": 235,
   "metadata": {},
   "outputs": [
    {
     "name": "stdout",
     "output_type": "stream",
     "text": [
      "Bangladesh\n",
      "China\n",
      "r\n"
     ]
    }
   ],
   "source": [
    "# using random.choice(seq)  --> random_element\n",
    "# pythonic way\n",
    "\n",
    "lst = [\"India\",\"Sri Lanka\",\"Nepal\",\"China\",\"Bhutan\",\"Bangladesh\"]\n",
    "tupl = (\"India\",\"Sri Lanka\",\"Nepal\",\"China\",\"Bhutan\",\"Bangladesh\")\n",
    "strng = \"roshansingh\"\n",
    "\n",
    "print(random.choice(lst))\n",
    "print(random.choice(tupl))\n",
    "print(random.choice(strng))"
   ]
  },
  {
   "cell_type": "code",
   "execution_count": 253,
   "metadata": {},
   "outputs": [
    {
     "name": "stdout",
     "output_type": "stream",
     "text": [
      "Bhutan\n",
      "['Nepal' 'India' 'Nepal' 'India' 'India']\n",
      "[['India' 'Sri Lanka' 'Bhutan']\n",
      " ['Nepal' 'India' 'Sri Lanka']]\n",
      "[['Sri Lanka' 'China' 'Bangladesh']\n",
      " ['Nepal' 'India' 'Bhutan']]\n"
     ]
    }
   ],
   "source": [
    "# using np.random.choice(seq,size_tuple,replace=true)\n",
    "# seq cant be string\n",
    "# when replace = false then produce of dimension (size_tuple) must be <= sizeof seq\n",
    "# ex size_tuple = (2,3): product = 2x3=6:sizeof seq = 6: since seq == produce: no error: else error\n",
    "\n",
    "print(np.random.choice(lst))  # just like python's\n",
    "print(np.random.choice(lst,size=5))  # 1-d array shape=(5,)\n",
    "print(np.random.choice(tupl,size=(2,3)))  # 2-d array shape=(2,3)\n",
    "print(np.random.choice(lst,size=(2,3),replace = False))\n"
   ]
  },
  {
   "cell_type": "code",
   "execution_count": 254,
   "metadata": {},
   "outputs": [],
   "source": [
    "#SAMPLE"
   ]
  },
  {
   "cell_type": "code",
   "execution_count": 273,
   "metadata": {},
   "outputs": [
    {
     "name": "stdout",
     "output_type": "stream",
     "text": [
      "['India', 'China', 'Bhutan', 'Bangladesh', 'Sri Lanka']\n",
      "['Sri Lanka', 'Bangladesh', 'China', 'India']\n",
      "['i', 'h', 'n']\n",
      "['China', 'Bhutan']\n"
     ]
    }
   ],
   "source": [
    "# using pythonic sample random.sample(population,k) --> list\n",
    "#populatin can be sequence or set\n",
    "\n",
    "lst = [\"India\",\"Sri Lanka\",\"Nepal\",\"China\",\"Bhutan\",\"Bangladesh\"]\n",
    "tupl = (\"India\",\"Sri Lanka\",\"Nepal\",\"China\",\"Bhutan\",\"Bangladesh\")\n",
    "strng = \"roshansingh\"\n",
    "st = set(lst)\n",
    "\n",
    "print(random.sample(lst,5))\n",
    "print(random.sample(tupl,4))\n",
    "print(random.sample(strng,3))\n",
    "print(random.sample(st,2))"
   ]
  },
  {
   "cell_type": "code",
   "execution_count": 268,
   "metadata": {},
   "outputs": [
    {
     "name": "stdout",
     "output_type": "stream",
     "text": [
      "[0.03038516 0.36005054 0.35241749 0.24784832 0.77310682]\n",
      "[0.22534101 0.27704079 0.81476142 0.01155643 0.88710183]\n",
      "[[0.39370863 0.44834249 0.7493086  0.32988818 0.97105249]\n",
      " [0.00240775 0.99241698 0.08990621 0.90890048 0.65546851]]\n",
      "\n",
      "\n",
      "\n",
      "[8.53706505 7.41786192 7.62096604 6.21728465 6.63643547 8.86778465\n",
      " 9.19674575 9.81329244 9.40787579 9.84670138]\n"
     ]
    }
   ],
   "source": [
    "# using numpy sample np.random.random_sample(size_tuple)\n",
    "# returns [0,1)\n",
    "\n",
    "print(np.random.random_sample(5))  # size = 5: 1d array of 5 element\n",
    "print(np.random.random_sample((5,)))  # size = (5,): 1d array of 5 element\n",
    "print(np.random.random_sample((2,5)))  # size = 5: 2d array of 5 element\n",
    "print(\"\\n\\n\")\n",
    "# scalar operations\n",
    "a = 5\n",
    "b = 10\n",
    "print((b-a)*np.random.random_sample(10)+a)  # prints float b/w [5,10)"
   ]
  },
  {
   "cell_type": "code",
   "execution_count": null,
   "metadata": {},
   "outputs": [],
   "source": []
  }
 ],
 "metadata": {
  "kernelspec": {
   "display_name": "Python 3",
   "language": "python",
   "name": "python3"
  },
  "language_info": {
   "codemirror_mode": {
    "name": "ipython",
    "version": 3
   },
   "file_extension": ".py",
   "mimetype": "text/x-python",
   "name": "python",
   "nbconvert_exporter": "python",
   "pygments_lexer": "ipython3",
   "version": "3.7.0"
  }
 },
 "nbformat": 4,
 "nbformat_minor": 2
}
